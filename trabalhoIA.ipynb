{
 "cells": [
  {
   "cell_type": "code",
   "execution_count": 20,
   "id": "67246a51-2c14-4cf3-b819-421c72b9575e",
   "metadata": {},
   "outputs": [],
   "source": [
    "import tensorflow as tf\n",
    "import torch\n",
    "from tensorflow.keras.datasets import mnist"
   ]
  },
  {
   "cell_type": "code",
   "execution_count": 21,
   "id": "c65a3244-60c6-4654-804c-58c0dffe3451",
   "metadata": {},
   "outputs": [],
   "source": [
    "(x_train, y_train), (x_test, y_test) = mnist.load_data()"
   ]
  },
  {
   "cell_type": "code",
   "execution_count": 22,
   "id": "c16e2ede-9264-4b58-b5a9-a18dd6b8aaaf",
   "metadata": {},
   "outputs": [],
   "source": [
    "# Normalize as imagens para o intervalo [0, 1]\n",
    "x_train = x_train / 255.0\n",
    "x_test = x_test / 255.0\n",
    "\n",
    "# Converta os rótulos para o formato one-hot encoding\n",
    "y_train = tf.keras.utils.to_categorical(y_train, 10)\n",
    "y_test = tf.keras.utils.to_categorical(y_test, 10)"
   ]
  },
  {
   "cell_type": "code",
   "execution_count": 23,
   "id": "62b5ab72-228e-4537-a234-6ea6aa7246ec",
   "metadata": {},
   "outputs": [],
   "source": [
    "from sklearn.model_selection import train_test_split\n",
    "\n",
    "# Divida o conjunto de treinamento em treinamento e validação\n",
    "x_train, x_val, y_train, y_val = train_test_split(x_train, y_train, test_size=0.15, random_state=42)"
   ]
  },
  {
   "cell_type": "code",
   "execution_count": 24,
   "id": "ba81b522-564c-40dd-8a04-c069b09ffc02",
   "metadata": {},
   "outputs": [],
   "source": [
    "model = tf.keras.Sequential([\n",
    "    tf.keras.layers.Flatten(input_shape=(28, 28)),  # Camada de entrada\n",
    "    tf.keras.layers.Dense(128, activation='relu'),  # Camada oculta com 128 neurônios e função de ativação ReLU\n",
    "    tf.keras.layers.Dense(10, activation='softmax')  # Camada de saída com 10 neurônios para as 10 classes e função de ativação softmax\n",
    "])"
   ]
  },
  {
   "cell_type": "code",
   "execution_count": 25,
   "id": "92eaac1b-a580-440c-abcf-9689e0035272",
   "metadata": {},
   "outputs": [],
   "source": [
    "model.compile(optimizer='sgd', loss='categorical_crossentropy', metrics=['accuracy'])"
   ]
  },
  {
   "cell_type": "code",
   "execution_count": 26,
   "id": "caed9095-2c66-4913-b5a0-37595d4e60d6",
   "metadata": {},
   "outputs": [
    {
     "name": "stdout",
     "output_type": "stream",
     "text": [
      "Epoch 1/10\n",
      "1594/1594 [==============================] - 5s 3ms/step - loss: 0.6859 - accuracy: 0.8296 - val_loss: 0.3979 - val_accuracy: 0.8897\n",
      "Epoch 2/10\n",
      "1594/1594 [==============================] - 5s 3ms/step - loss: 0.3545 - accuracy: 0.9019 - val_loss: 0.3202 - val_accuracy: 0.9114\n",
      "Epoch 3/10\n",
      "1594/1594 [==============================] - 5s 3ms/step - loss: 0.3031 - accuracy: 0.9150 - val_loss: 0.2853 - val_accuracy: 0.9192\n",
      "Epoch 4/10\n",
      "1594/1594 [==============================] - 6s 3ms/step - loss: 0.2726 - accuracy: 0.9236 - val_loss: 0.2610 - val_accuracy: 0.9268\n",
      "Epoch 5/10\n",
      "1594/1594 [==============================] - 5s 3ms/step - loss: 0.2498 - accuracy: 0.9303 - val_loss: 0.2439 - val_accuracy: 0.9317\n",
      "Epoch 6/10\n",
      "1594/1594 [==============================] - 5s 3ms/step - loss: 0.2320 - accuracy: 0.9356 - val_loss: 0.2287 - val_accuracy: 0.9350\n",
      "Epoch 7/10\n",
      "1594/1594 [==============================] - 5s 3ms/step - loss: 0.2166 - accuracy: 0.9398 - val_loss: 0.2150 - val_accuracy: 0.9401\n",
      "Epoch 8/10\n",
      "1594/1594 [==============================] - 5s 3ms/step - loss: 0.2034 - accuracy: 0.9438 - val_loss: 0.2030 - val_accuracy: 0.9429\n",
      "Epoch 9/10\n",
      "1594/1594 [==============================] - 5s 3ms/step - loss: 0.1921 - accuracy: 0.9463 - val_loss: 0.1931 - val_accuracy: 0.9462\n",
      "Epoch 10/10\n",
      "1594/1594 [==============================] - 5s 3ms/step - loss: 0.1819 - accuracy: 0.9498 - val_loss: 0.1839 - val_accuracy: 0.9497\n"
     ]
    }
   ],
   "source": [
    "history = model.fit(x_train, y_train, epochs=10, batch_size=32, validation_data=(x_val, y_val))"
   ]
  },
  {
   "cell_type": "code",
   "execution_count": 27,
   "id": "e8b987c8-3cd9-42d3-adda-c7136f921200",
   "metadata": {},
   "outputs": [
    {
     "name": "stdout",
     "output_type": "stream",
     "text": [
      "313/313 [==============================] - 1s 2ms/step - loss: 0.1794 - accuracy: 0.9493\n",
      "Acurácia no conjunto de teste: 94.93%\n"
     ]
    }
   ],
   "source": [
    "test_loss, test_accuracy = model.evaluate(x_test, y_test)\n",
    "print(f\"Acurácia no conjunto de teste: {test_accuracy * 100:.2f}%\")"
   ]
  },
  {
   "cell_type": "code",
   "execution_count": 28,
   "id": "0703d9aa-1311-4e2d-86d9-cde0523c4298",
   "metadata": {},
   "outputs": [],
   "source": [
    "# Salvar o modelo treinado em um arquivo HDF5\n",
    "model.save(\"mnist_model.h5\")"
   ]
  },
  {
   "cell_type": "code",
   "execution_count": 39,
   "id": "73d5fb58-be5a-4f56-a39c-a825ed7f74fe",
   "metadata": {},
   "outputs": [
    {
     "name": "stdout",
     "output_type": "stream",
     "text": [
      "A imagem está no formato correto (28x28 pixels).\n"
     ]
    }
   ],
   "source": [
    "from PIL import Image\n",
    "import numpy as np\n",
    "\n",
    "# Carregue a imagem\n",
    "image = Image.open(\"zero_mnist3.png\")\n",
    "\n",
    "# Redimensione a imagem para 28x28 pixels (o mesmo tamanho do MNIST)\n",
    "image = image.resize((28, 28))\n",
    "\n",
    "# Converta a imagem para escala de cinza (caso não esteja em escala de cinza)\n",
    "image = image.convert(\"L\")\n",
    "\n",
    "# Converta a imagem em um array NumPy\n",
    "image_array = np.array(image)\n",
    "\n",
    "# Verifique o tamanho do array da imagem\n",
    "if image_array.shape == (28, 28):\n",
    "    # O array tem o tamanho correto (28x28)\n",
    "    print(\"A imagem está no formato correto (28x28 pixels).\")\n",
    "else:\n",
    "    # O array não tem o tamanho correto\n",
    "    print(\"A imagem não está no formato correto (28x28 pixels).\")\n"
   ]
  },
  {
   "cell_type": "code",
   "execution_count": 38,
   "id": "fe4a6384-35dd-44b9-b593-55775b5eb260",
   "metadata": {},
   "outputs": [
    {
     "name": "stdout",
     "output_type": "stream",
     "text": [
      "1/1 [==============================] - 0s 32ms/step\n",
      "Classe prevista: 5\n"
     ]
    },
    {
     "data": {
      "image/png": "[encoded data removed]",
      "text/plain": [
       "<Figure size 640x480 with 1 Axes>"
      ]
     },
     "metadata": {},
     "output_type": "display_data"
    }
   ],
   "source": [
    "from PIL import Image\n",
    "import numpy as np\n",
    "import matplotlib.pyplot as plt\n",
    "\n",
    "# Carregue a imagem\n",
    "image = Image.open(\"zero_mnist3.png\")\n",
    "\n",
    "# Redimensione a imagem para 28x28 pixels (o mesmo tamanho do MNIST)\n",
    "image = image.resize((28, 28))\n",
    "\n",
    "# Converta a imagem para escala de cinza (caso não esteja em escala de cinza)\n",
    "image = image.convert(\"L\")\n",
    "\n",
    "# Converta a imagem em um array NumPy\n",
    "image_array = np.array(image)\n",
    "\n",
    "# Normalize a imagem para o intervalo [0, 1]\n",
    "image_array = image_array / 255.0\n",
    "\n",
    "# Inverta as cores, se necessário (o MNIST é fundo preto com dígitos brancos)\n",
    "image_array = 1 - image_array\n",
    "\n",
    "# Certifique-se de que a imagem esteja no formato correto (28x28) e seja um array 2D\n",
    "if image_array.shape == (28, 28):\n",
    "    # A imagem está pronta para ser testada pelo modelo\n",
    "    # Agora você pode usar o modelo treinado para fazer previsões com esta imagem\n",
    "    prediction = model.predict(np.expand_dims(image_array, axis=0))\n",
    "\n",
    "    # A variável \"prediction\" conterá as probabilidades para cada classe (0 a 9)\n",
    "    # Você pode encontrar a classe mais provável usando np.argmax(prediction)\n",
    "    predicted_class = np.argmax(prediction)\n",
    "    print(f\"Classe prevista: {predicted_class}\")\n",
    "\n",
    "    # Exibir a imagem original\n",
    "    plt.imshow(image_array, cmap=\"gray\")\n",
    "    plt.axis(\"off\")\n",
    "\n",
    "    # Exibir a previsão embaixo da imagem\n",
    "    plt.text(0, 30, f\"Classe prevista: {predicted_class}\", fontsize=12, color=\"red\")\n",
    "\n",
    "    # Mostrar a imagem com a previsão\n",
    "    plt.show()\n",
    "else:\n",
    "    print(\"A imagem não está no formato correto (28x28 pixels).\")\n"
   ]
  },
  {
   "cell_type": "code",
   "execution_count": 43,
   "id": "558a72f2-d205-4155-99b3-b5339ef5cc99",
   "metadata": {},
   "outputs": [
    {
     "name": "stdout",
     "output_type": "stream",
     "text": [
      "1/1 [==============================] - 0s 31ms/step\n"
     ]
    },
    {
     "data": {
      "image/png": "[encoded data removed]",
      "text/plain": [
       "<Figure size 640x480 with 1 Axes>"
      ]
     },
     "metadata": {},
     "output_type": "display_data"
    }
   ],
   "source": [
    "from PIL import Image\n",
    "import numpy as np\n",
    "import matplotlib.pyplot as plt\n",
    "\n",
    "# Carregue a imagem\n",
    "image = Image.open(\"zero_mnist3.png\")\n",
    "\n",
    "# Converta a imagem para uma matriz NumPy\n",
    "image_array = np.array(image)\n",
    "\n",
    "# Normalize a imagem para o intervalo [0, 1]\n",
    "normalized_image = image_array / 255.0\n",
    "\n",
    "# Certifique-se de que 'normalized_image' é um array NumPy no formato (28, 28)\n",
    "if normalized_image.shape == (28, 28):\n",
    "    # 'normalized_image' está pronto para ser testado pelo modelo\n",
    "    # Agora você pode usar o modelo treinado para fazer previsões com esta imagem\n",
    "    prediction = model.predict(np.expand_dims(normalized_image, axis=0))\n",
    "\n",
    "    # A variável 'prediction' conterá as probabilidades para cada classe (0 a 9)\n",
    "    # Você pode encontrar a classe mais provável usando np.argmax(prediction)\n",
    "    predicted_class = np.argmax(prediction)\n",
    "    \n",
    "    # Exiba a imagem original\n",
    "    plt.imshow(image_array, cmap=\"gray\")\n",
    "    plt.axis(\"off\")\n",
    "    plt.title(f\"Classe prevista: {predicted_class}\")\n",
    "\n",
    "    # Mostrar a imagem com a previsão\n",
    "    plt.show()\n",
    "else:\n",
    "    print(\"A imagem não está no formato correto (28x28 pixels).\")\n"
   ]
  },
  {
   "cell_type": "code",
   "execution_count": null,
   "id": "a3d34e55-461d-4304-b34d-9be1626b7482",
   "metadata": {},
   "outputs": [],
   "source": []
  }
 ],
 "metadata": {
  "kernelspec": {
   "display_name": "Python 3 (ipykernel)",
   "language": "python",
   "name": "python3"
  },
  "language_info": {
   "codemirror_mode": {
    "name": "ipython",
    "version": 3
   },
   "file_extension": ".py",
   "mimetype": "text/x-python",
   "name": "python",
   "nbconvert_exporter": "python",
   "pygments_lexer": "ipython3",
   "version": "3.11.5"
  }
 },
 "nbformat": 4,
 "nbformat_minor": 5
}
